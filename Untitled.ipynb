{
 "cells": [
  {
   "cell_type": "code",
   "execution_count": 1,
   "metadata": {
    "collapsed": false
   },
   "outputs": [
    {
     "name": "stdout",
     "output_type": "stream",
     "text": [
      "Requirement already satisfied: beautifulsoup4 in ./common/.virtualenv/python3/lib/python3.5/site-packages (4.6.3)\n",
      "\u001b[33mYou are using pip version 18.0, however version 18.1 is available.\n",
      "You should consider upgrading via the 'pip install --upgrade pip' command.\u001b[0m\n"
     ]
    }
   ],
   "source": [
    "!pip install beautifulsoup4\n",
    "from bs4 import BeautifulSoup\n"
   ]
  },
  {
   "cell_type": "code",
   "execution_count": 2,
   "metadata": {
    "collapsed": false
   },
   "outputs": [],
   "source": [
    "import numpy as np \n",
    "import pandas as pd\n",
    "import requests"
   ]
  },
  {
   "cell_type": "code",
   "execution_count": 3,
   "metadata": {
    "collapsed": false
   },
   "outputs": [],
   "source": [
    "wikilink = 'https://en.wikipedia.org/wiki/List_of_postal_codes_of_Canada:_M'"
   ]
  },
  {
   "cell_type": "code",
   "execution_count": 4,
   "metadata": {
    "collapsed": false
   },
   "outputs": [],
   "source": [
    "rawwiki = requests.get(wikilink)"
   ]
  },
  {
   "cell_type": "code",
   "execution_count": 5,
   "metadata": {
    "collapsed": false
   },
   "outputs": [],
   "source": [
    "#with open (url) as html_file:\n",
    "soup = BeautifulSoup(rawwiki.text,'lxml')\n",
    "#print(soup.prettify())\n"
   ]
  },
  {
   "cell_type": "code",
   "execution_count": 6,
   "metadata": {
    "collapsed": false
   },
   "outputs": [],
   "source": [
    "wikitable = soup.find('table',{'class':'wikitable sortable'})\n",
    "#wikitable"
   ]
  },
  {
   "cell_type": "code",
   "execution_count": 7,
   "metadata": {
    "collapsed": false
   },
   "outputs": [
    {
     "data": {
      "text/html": [
       "<div>\n",
       "<style scoped>\n",
       "    .dataframe tbody tr th:only-of-type {\n",
       "        vertical-align: middle;\n",
       "    }\n",
       "\n",
       "    .dataframe tbody tr th {\n",
       "        vertical-align: top;\n",
       "    }\n",
       "\n",
       "    .dataframe thead th {\n",
       "        text-align: right;\n",
       "    }\n",
       "</style>\n",
       "<table border=\"1\" class=\"dataframe\">\n",
       "  <thead>\n",
       "    <tr style=\"text-align: right;\">\n",
       "      <th></th>\n",
       "      <th>PostalCode</th>\n",
       "      <th>Borough</th>\n",
       "      <th>Neighborhood</th>\n",
       "    </tr>\n",
       "  </thead>\n",
       "  <tbody>\n",
       "    <tr>\n",
       "      <th>0</th>\n",
       "      <td>M1A</td>\n",
       "      <td>Not assigned</td>\n",
       "      <td>Not assigned</td>\n",
       "    </tr>\n",
       "    <tr>\n",
       "      <th>1</th>\n",
       "      <td>M2A</td>\n",
       "      <td>Not assigned</td>\n",
       "      <td>Not assigned</td>\n",
       "    </tr>\n",
       "    <tr>\n",
       "      <th>2</th>\n",
       "      <td>M3A</td>\n",
       "      <td>North York</td>\n",
       "      <td>Parkwoods</td>\n",
       "    </tr>\n",
       "    <tr>\n",
       "      <th>3</th>\n",
       "      <td>M4A</td>\n",
       "      <td>North York</td>\n",
       "      <td>Victoria Village</td>\n",
       "    </tr>\n",
       "    <tr>\n",
       "      <th>4</th>\n",
       "      <td>M5A</td>\n",
       "      <td>Downtown Toronto</td>\n",
       "      <td>Harbourfront</td>\n",
       "    </tr>\n",
       "    <tr>\n",
       "      <th>5</th>\n",
       "      <td>M5A</td>\n",
       "      <td>Downtown Toronto</td>\n",
       "      <td>Regent Park</td>\n",
       "    </tr>\n",
       "    <tr>\n",
       "      <th>6</th>\n",
       "      <td>M6A</td>\n",
       "      <td>North York</td>\n",
       "      <td>Lawrence Heights</td>\n",
       "    </tr>\n",
       "    <tr>\n",
       "      <th>7</th>\n",
       "      <td>M6A</td>\n",
       "      <td>North York</td>\n",
       "      <td>Lawrence Manor</td>\n",
       "    </tr>\n",
       "    <tr>\n",
       "      <th>8</th>\n",
       "      <td>M7A</td>\n",
       "      <td>Queen's Park</td>\n",
       "      <td>Not assigned</td>\n",
       "    </tr>\n",
       "    <tr>\n",
       "      <th>9</th>\n",
       "      <td>M8A</td>\n",
       "      <td>Not assigned</td>\n",
       "      <td>Not assigned</td>\n",
       "    </tr>\n",
       "    <tr>\n",
       "      <th>10</th>\n",
       "      <td>M9A</td>\n",
       "      <td>Etobicoke</td>\n",
       "      <td>Islington Avenue</td>\n",
       "    </tr>\n",
       "    <tr>\n",
       "      <th>11</th>\n",
       "      <td>M1B</td>\n",
       "      <td>Scarborough</td>\n",
       "      <td>Rouge</td>\n",
       "    </tr>\n",
       "    <tr>\n",
       "      <th>12</th>\n",
       "      <td>M1B</td>\n",
       "      <td>Scarborough</td>\n",
       "      <td>Malvern</td>\n",
       "    </tr>\n",
       "    <tr>\n",
       "      <th>13</th>\n",
       "      <td>M2B</td>\n",
       "      <td>Not assigned</td>\n",
       "      <td>Not assigned</td>\n",
       "    </tr>\n",
       "    <tr>\n",
       "      <th>14</th>\n",
       "      <td>M3B</td>\n",
       "      <td>North York</td>\n",
       "      <td>Don Mills North</td>\n",
       "    </tr>\n",
       "  </tbody>\n",
       "</table>\n",
       "</div>"
      ],
      "text/plain": [
       "   PostalCode           Borough      Neighborhood\n",
       "0         M1A      Not assigned      Not assigned\n",
       "1         M2A      Not assigned      Not assigned\n",
       "2         M3A        North York         Parkwoods\n",
       "3         M4A        North York  Victoria Village\n",
       "4         M5A  Downtown Toronto      Harbourfront\n",
       "5         M5A  Downtown Toronto       Regent Park\n",
       "6         M6A        North York  Lawrence Heights\n",
       "7         M6A        North York    Lawrence Manor\n",
       "8         M7A      Queen's Park      Not assigned\n",
       "9         M8A      Not assigned      Not assigned\n",
       "10        M9A         Etobicoke  Islington Avenue\n",
       "11        M1B       Scarborough             Rouge\n",
       "12        M1B       Scarborough           Malvern\n",
       "13        M2B      Not assigned      Not assigned\n",
       "14        M3B        North York   Don Mills North"
      ]
     },
     "execution_count": 7,
     "metadata": {},
     "output_type": "execute_result"
    }
   ],
   "source": [
    "table_rows = wikitable.find_all('tr')\n",
    "\n",
    "res = []\n",
    "for tr in table_rows:\n",
    "    td = tr.find_all('td')\n",
    "    row = [tr.text.strip() for tr in td if tr.text.strip()]\n",
    "    if row:\n",
    "        res.append(row)\n",
    "\n",
    "\n",
    "df = pd.DataFrame(res, columns=[\"PostalCode\", \"Borough\", \"Neighborhood\"])\n",
    "df.head(15)"
   ]
  },
  {
   "cell_type": "code",
   "execution_count": 8,
   "metadata": {
    "collapsed": false
   },
   "outputs": [
    {
     "data": {
      "text/html": [
       "<div>\n",
       "<style scoped>\n",
       "    .dataframe tbody tr th:only-of-type {\n",
       "        vertical-align: middle;\n",
       "    }\n",
       "\n",
       "    .dataframe tbody tr th {\n",
       "        vertical-align: top;\n",
       "    }\n",
       "\n",
       "    .dataframe thead th {\n",
       "        text-align: right;\n",
       "    }\n",
       "</style>\n",
       "<table border=\"1\" class=\"dataframe\">\n",
       "  <thead>\n",
       "    <tr style=\"text-align: right;\">\n",
       "      <th></th>\n",
       "      <th>PostalCode</th>\n",
       "      <th>Borough</th>\n",
       "      <th>Neighborhood</th>\n",
       "    </tr>\n",
       "  </thead>\n",
       "  <tbody>\n",
       "    <tr>\n",
       "      <th>2</th>\n",
       "      <td>M3A</td>\n",
       "      <td>North York</td>\n",
       "      <td>Parkwoods</td>\n",
       "    </tr>\n",
       "    <tr>\n",
       "      <th>3</th>\n",
       "      <td>M4A</td>\n",
       "      <td>North York</td>\n",
       "      <td>Victoria Village</td>\n",
       "    </tr>\n",
       "    <tr>\n",
       "      <th>4</th>\n",
       "      <td>M5A</td>\n",
       "      <td>Downtown Toronto</td>\n",
       "      <td>Harbourfront</td>\n",
       "    </tr>\n",
       "    <tr>\n",
       "      <th>5</th>\n",
       "      <td>M5A</td>\n",
       "      <td>Downtown Toronto</td>\n",
       "      <td>Regent Park</td>\n",
       "    </tr>\n",
       "    <tr>\n",
       "      <th>6</th>\n",
       "      <td>M6A</td>\n",
       "      <td>North York</td>\n",
       "      <td>Lawrence Heights</td>\n",
       "    </tr>\n",
       "    <tr>\n",
       "      <th>7</th>\n",
       "      <td>M6A</td>\n",
       "      <td>North York</td>\n",
       "      <td>Lawrence Manor</td>\n",
       "    </tr>\n",
       "    <tr>\n",
       "      <th>8</th>\n",
       "      <td>M7A</td>\n",
       "      <td>Queen's Park</td>\n",
       "      <td>Not assigned</td>\n",
       "    </tr>\n",
       "    <tr>\n",
       "      <th>10</th>\n",
       "      <td>M9A</td>\n",
       "      <td>Etobicoke</td>\n",
       "      <td>Islington Avenue</td>\n",
       "    </tr>\n",
       "    <tr>\n",
       "      <th>11</th>\n",
       "      <td>M1B</td>\n",
       "      <td>Scarborough</td>\n",
       "      <td>Rouge</td>\n",
       "    </tr>\n",
       "    <tr>\n",
       "      <th>12</th>\n",
       "      <td>M1B</td>\n",
       "      <td>Scarborough</td>\n",
       "      <td>Malvern</td>\n",
       "    </tr>\n",
       "  </tbody>\n",
       "</table>\n",
       "</div>"
      ],
      "text/plain": [
       "   PostalCode           Borough      Neighborhood\n",
       "2         M3A        North York         Parkwoods\n",
       "3         M4A        North York  Victoria Village\n",
       "4         M5A  Downtown Toronto      Harbourfront\n",
       "5         M5A  Downtown Toronto       Regent Park\n",
       "6         M6A        North York  Lawrence Heights\n",
       "7         M6A        North York    Lawrence Manor\n",
       "8         M7A      Queen's Park      Not assigned\n",
       "10        M9A         Etobicoke  Islington Avenue\n",
       "11        M1B       Scarborough             Rouge\n",
       "12        M1B       Scarborough           Malvern"
      ]
     },
     "execution_count": 8,
     "metadata": {},
     "output_type": "execute_result"
    }
   ],
   "source": [
    "df = df[df.Borough != 'Not assigned']\n",
    "df.head(10)"
   ]
  },
  {
   "cell_type": "code",
   "execution_count": 9,
   "metadata": {
    "collapsed": false
   },
   "outputs": [
    {
     "data": {
      "text/html": [
       "<div>\n",
       "<style scoped>\n",
       "    .dataframe tbody tr th:only-of-type {\n",
       "        vertical-align: middle;\n",
       "    }\n",
       "\n",
       "    .dataframe tbody tr th {\n",
       "        vertical-align: top;\n",
       "    }\n",
       "\n",
       "    .dataframe thead th {\n",
       "        text-align: right;\n",
       "    }\n",
       "</style>\n",
       "<table border=\"1\" class=\"dataframe\">\n",
       "  <thead>\n",
       "    <tr style=\"text-align: right;\">\n",
       "      <th></th>\n",
       "      <th>PostalCode</th>\n",
       "      <th>Borough</th>\n",
       "      <th>Neighborhood</th>\n",
       "    </tr>\n",
       "  </thead>\n",
       "  <tbody>\n",
       "    <tr>\n",
       "      <th>0</th>\n",
       "      <td>M3A</td>\n",
       "      <td>North York</td>\n",
       "      <td>Parkwoods</td>\n",
       "    </tr>\n",
       "    <tr>\n",
       "      <th>1</th>\n",
       "      <td>M4A</td>\n",
       "      <td>North York</td>\n",
       "      <td>Victoria Village</td>\n",
       "    </tr>\n",
       "    <tr>\n",
       "      <th>2</th>\n",
       "      <td>M5A</td>\n",
       "      <td>Downtown Toronto</td>\n",
       "      <td>Harbourfront, Regent Park</td>\n",
       "    </tr>\n",
       "    <tr>\n",
       "      <th>3</th>\n",
       "      <td>M6A</td>\n",
       "      <td>North York</td>\n",
       "      <td>Lawrence Heights, Lawrence Manor</td>\n",
       "    </tr>\n",
       "    <tr>\n",
       "      <th>4</th>\n",
       "      <td>M7A</td>\n",
       "      <td>Queen's Park</td>\n",
       "      <td>Not assigned</td>\n",
       "    </tr>\n",
       "    <tr>\n",
       "      <th>5</th>\n",
       "      <td>M9A</td>\n",
       "      <td>Etobicoke</td>\n",
       "      <td>Islington Avenue</td>\n",
       "    </tr>\n",
       "    <tr>\n",
       "      <th>6</th>\n",
       "      <td>M1B</td>\n",
       "      <td>Scarborough</td>\n",
       "      <td>Rouge, Malvern</td>\n",
       "    </tr>\n",
       "    <tr>\n",
       "      <th>7</th>\n",
       "      <td>M3B</td>\n",
       "      <td>North York</td>\n",
       "      <td>Don Mills North</td>\n",
       "    </tr>\n",
       "    <tr>\n",
       "      <th>8</th>\n",
       "      <td>M4B</td>\n",
       "      <td>East York</td>\n",
       "      <td>Woodbine Gardens, Parkview Hill</td>\n",
       "    </tr>\n",
       "    <tr>\n",
       "      <th>9</th>\n",
       "      <td>M5B</td>\n",
       "      <td>Downtown Toronto</td>\n",
       "      <td>Ryerson, Garden District</td>\n",
       "    </tr>\n",
       "    <tr>\n",
       "      <th>10</th>\n",
       "      <td>M6B</td>\n",
       "      <td>North York</td>\n",
       "      <td>Glencairn</td>\n",
       "    </tr>\n",
       "    <tr>\n",
       "      <th>11</th>\n",
       "      <td>M9B</td>\n",
       "      <td>Etobicoke</td>\n",
       "      <td>Cloverdale, Islington, Martin Grove, Princess ...</td>\n",
       "    </tr>\n",
       "    <tr>\n",
       "      <th>12</th>\n",
       "      <td>M1C</td>\n",
       "      <td>Scarborough</td>\n",
       "      <td>Highland Creek, Rouge Hill, Port Union</td>\n",
       "    </tr>\n",
       "    <tr>\n",
       "      <th>13</th>\n",
       "      <td>M3C</td>\n",
       "      <td>North York</td>\n",
       "      <td>Flemingdon Park, Don Mills South</td>\n",
       "    </tr>\n",
       "    <tr>\n",
       "      <th>14</th>\n",
       "      <td>M4C</td>\n",
       "      <td>East York</td>\n",
       "      <td>Woodbine Heights</td>\n",
       "    </tr>\n",
       "  </tbody>\n",
       "</table>\n",
       "</div>"
      ],
      "text/plain": [
       "   PostalCode           Borough  \\\n",
       "0         M3A        North York   \n",
       "1         M4A        North York   \n",
       "2         M5A  Downtown Toronto   \n",
       "3         M6A        North York   \n",
       "4         M7A      Queen's Park   \n",
       "5         M9A         Etobicoke   \n",
       "6         M1B       Scarborough   \n",
       "7         M3B        North York   \n",
       "8         M4B         East York   \n",
       "9         M5B  Downtown Toronto   \n",
       "10        M6B        North York   \n",
       "11        M9B         Etobicoke   \n",
       "12        M1C       Scarborough   \n",
       "13        M3C        North York   \n",
       "14        M4C         East York   \n",
       "\n",
       "                                         Neighborhood  \n",
       "0                                           Parkwoods  \n",
       "1                                    Victoria Village  \n",
       "2                           Harbourfront, Regent Park  \n",
       "3                    Lawrence Heights, Lawrence Manor  \n",
       "4                                        Not assigned  \n",
       "5                                    Islington Avenue  \n",
       "6                                      Rouge, Malvern  \n",
       "7                                     Don Mills North  \n",
       "8                     Woodbine Gardens, Parkview Hill  \n",
       "9                            Ryerson, Garden District  \n",
       "10                                          Glencairn  \n",
       "11  Cloverdale, Islington, Martin Grove, Princess ...  \n",
       "12             Highland Creek, Rouge Hill, Port Union  \n",
       "13                   Flemingdon Park, Don Mills South  \n",
       "14                                   Woodbine Heights  "
      ]
     },
     "execution_count": 9,
     "metadata": {},
     "output_type": "execute_result"
    }
   ],
   "source": [
    "#' '.join(x) returns the values in a string\n",
    "\n",
    "df = df.groupby(['PostalCode','Borough'],as_index=False,sort=False).agg(lambda x: ', '.join(x))\n",
    "df.head(15)"
   ]
  },
  {
   "cell_type": "code",
   "execution_count": 10,
   "metadata": {
    "collapsed": false
   },
   "outputs": [
    {
     "data": {
      "text/html": [
       "<div>\n",
       "<style scoped>\n",
       "    .dataframe tbody tr th:only-of-type {\n",
       "        vertical-align: middle;\n",
       "    }\n",
       "\n",
       "    .dataframe tbody tr th {\n",
       "        vertical-align: top;\n",
       "    }\n",
       "\n",
       "    .dataframe thead th {\n",
       "        text-align: right;\n",
       "    }\n",
       "</style>\n",
       "<table border=\"1\" class=\"dataframe\">\n",
       "  <thead>\n",
       "    <tr style=\"text-align: right;\">\n",
       "      <th></th>\n",
       "      <th>PostalCode</th>\n",
       "      <th>Borough</th>\n",
       "      <th>Neighborhood</th>\n",
       "    </tr>\n",
       "  </thead>\n",
       "  <tbody>\n",
       "    <tr>\n",
       "      <th>0</th>\n",
       "      <td>M3A</td>\n",
       "      <td>North York</td>\n",
       "      <td>Parkwoods</td>\n",
       "    </tr>\n",
       "    <tr>\n",
       "      <th>1</th>\n",
       "      <td>M4A</td>\n",
       "      <td>North York</td>\n",
       "      <td>Victoria Village</td>\n",
       "    </tr>\n",
       "    <tr>\n",
       "      <th>2</th>\n",
       "      <td>M5A</td>\n",
       "      <td>Downtown Toronto</td>\n",
       "      <td>Harbourfront, Regent Park</td>\n",
       "    </tr>\n",
       "    <tr>\n",
       "      <th>3</th>\n",
       "      <td>M6A</td>\n",
       "      <td>North York</td>\n",
       "      <td>Lawrence Heights, Lawrence Manor</td>\n",
       "    </tr>\n",
       "    <tr>\n",
       "      <th>4</th>\n",
       "      <td>M7A</td>\n",
       "      <td>Queen's Park</td>\n",
       "      <td>Queen's Park</td>\n",
       "    </tr>\n",
       "    <tr>\n",
       "      <th>5</th>\n",
       "      <td>M9A</td>\n",
       "      <td>Etobicoke</td>\n",
       "      <td>Islington Avenue</td>\n",
       "    </tr>\n",
       "    <tr>\n",
       "      <th>6</th>\n",
       "      <td>M1B</td>\n",
       "      <td>Scarborough</td>\n",
       "      <td>Rouge, Malvern</td>\n",
       "    </tr>\n",
       "    <tr>\n",
       "      <th>7</th>\n",
       "      <td>M3B</td>\n",
       "      <td>North York</td>\n",
       "      <td>Don Mills North</td>\n",
       "    </tr>\n",
       "    <tr>\n",
       "      <th>8</th>\n",
       "      <td>M4B</td>\n",
       "      <td>East York</td>\n",
       "      <td>Woodbine Gardens, Parkview Hill</td>\n",
       "    </tr>\n",
       "    <tr>\n",
       "      <th>9</th>\n",
       "      <td>M5B</td>\n",
       "      <td>Downtown Toronto</td>\n",
       "      <td>Ryerson, Garden District</td>\n",
       "    </tr>\n",
       "    <tr>\n",
       "      <th>10</th>\n",
       "      <td>M6B</td>\n",
       "      <td>North York</td>\n",
       "      <td>Glencairn</td>\n",
       "    </tr>\n",
       "    <tr>\n",
       "      <th>11</th>\n",
       "      <td>M9B</td>\n",
       "      <td>Etobicoke</td>\n",
       "      <td>Cloverdale, Islington, Martin Grove, Princess ...</td>\n",
       "    </tr>\n",
       "  </tbody>\n",
       "</table>\n",
       "</div>"
      ],
      "text/plain": [
       "   PostalCode           Borough  \\\n",
       "0         M3A        North York   \n",
       "1         M4A        North York   \n",
       "2         M5A  Downtown Toronto   \n",
       "3         M6A        North York   \n",
       "4         M7A      Queen's Park   \n",
       "5         M9A         Etobicoke   \n",
       "6         M1B       Scarborough   \n",
       "7         M3B        North York   \n",
       "8         M4B         East York   \n",
       "9         M5B  Downtown Toronto   \n",
       "10        M6B        North York   \n",
       "11        M9B         Etobicoke   \n",
       "\n",
       "                                         Neighborhood  \n",
       "0                                           Parkwoods  \n",
       "1                                    Victoria Village  \n",
       "2                           Harbourfront, Regent Park  \n",
       "3                    Lawrence Heights, Lawrence Manor  \n",
       "4                                        Queen's Park  \n",
       "5                                    Islington Avenue  \n",
       "6                                      Rouge, Malvern  \n",
       "7                                     Don Mills North  \n",
       "8                     Woodbine Gardens, Parkview Hill  \n",
       "9                            Ryerson, Garden District  \n",
       "10                                          Glencairn  \n",
       "11  Cloverdale, Islington, Martin Grove, Princess ...  "
      ]
     },
     "execution_count": 10,
     "metadata": {},
     "output_type": "execute_result"
    }
   ],
   "source": [
    "df['Neighborhood'] = df['Neighborhood'].replace('Not assigned', df['Borough'])\n",
    "df.head(12)\n"
   ]
  },
  {
   "cell_type": "code",
   "execution_count": 11,
   "metadata": {
    "collapsed": false
   },
   "outputs": [
    {
     "data": {
      "text/plain": [
       "(103, 3)"
      ]
     },
     "execution_count": 11,
     "metadata": {},
     "output_type": "execute_result"
    }
   ],
   "source": [
    "df.shape "
   ]
  },
  {
   "cell_type": "code",
   "execution_count": 12,
   "metadata": {
    "collapsed": true
   },
   "outputs": [],
   "source": [
    "geocodes = pd.read_csv('Geospatial_Coordinates.csv')"
   ]
  },
  {
   "cell_type": "code",
   "execution_count": 13,
   "metadata": {
    "collapsed": false
   },
   "outputs": [
    {
     "data": {
      "text/html": [
       "<div>\n",
       "<style scoped>\n",
       "    .dataframe tbody tr th:only-of-type {\n",
       "        vertical-align: middle;\n",
       "    }\n",
       "\n",
       "    .dataframe tbody tr th {\n",
       "        vertical-align: top;\n",
       "    }\n",
       "\n",
       "    .dataframe thead th {\n",
       "        text-align: right;\n",
       "    }\n",
       "</style>\n",
       "<table border=\"1\" class=\"dataframe\">\n",
       "  <thead>\n",
       "    <tr style=\"text-align: right;\">\n",
       "      <th></th>\n",
       "      <th>Postal Code</th>\n",
       "      <th>Latitude</th>\n",
       "      <th>Longitude</th>\n",
       "    </tr>\n",
       "  </thead>\n",
       "  <tbody>\n",
       "    <tr>\n",
       "      <th>0</th>\n",
       "      <td>M1B</td>\n",
       "      <td>43.806686</td>\n",
       "      <td>-79.194353</td>\n",
       "    </tr>\n",
       "    <tr>\n",
       "      <th>1</th>\n",
       "      <td>M1C</td>\n",
       "      <td>43.784535</td>\n",
       "      <td>-79.160497</td>\n",
       "    </tr>\n",
       "    <tr>\n",
       "      <th>2</th>\n",
       "      <td>M1E</td>\n",
       "      <td>43.763573</td>\n",
       "      <td>-79.188711</td>\n",
       "    </tr>\n",
       "    <tr>\n",
       "      <th>3</th>\n",
       "      <td>M1G</td>\n",
       "      <td>43.770992</td>\n",
       "      <td>-79.216917</td>\n",
       "    </tr>\n",
       "  </tbody>\n",
       "</table>\n",
       "</div>"
      ],
      "text/plain": [
       "  Postal Code   Latitude  Longitude\n",
       "0         M1B  43.806686 -79.194353\n",
       "1         M1C  43.784535 -79.160497\n",
       "2         M1E  43.763573 -79.188711\n",
       "3         M1G  43.770992 -79.216917"
      ]
     },
     "execution_count": 13,
     "metadata": {},
     "output_type": "execute_result"
    }
   ],
   "source": [
    "geocodes.head(4)"
   ]
  },
  {
   "cell_type": "code",
   "execution_count": 14,
   "metadata": {
    "collapsed": false
   },
   "outputs": [
    {
     "data": {
      "text/html": [
       "<div>\n",
       "<style scoped>\n",
       "    .dataframe tbody tr th:only-of-type {\n",
       "        vertical-align: middle;\n",
       "    }\n",
       "\n",
       "    .dataframe tbody tr th {\n",
       "        vertical-align: top;\n",
       "    }\n",
       "\n",
       "    .dataframe thead th {\n",
       "        text-align: right;\n",
       "    }\n",
       "</style>\n",
       "<table border=\"1\" class=\"dataframe\">\n",
       "  <thead>\n",
       "    <tr style=\"text-align: right;\">\n",
       "      <th></th>\n",
       "      <th>PostalCode</th>\n",
       "      <th>Lat</th>\n",
       "      <th>Long</th>\n",
       "    </tr>\n",
       "  </thead>\n",
       "  <tbody>\n",
       "    <tr>\n",
       "      <th>0</th>\n",
       "      <td>M1B</td>\n",
       "      <td>43.806686</td>\n",
       "      <td>-79.194353</td>\n",
       "    </tr>\n",
       "    <tr>\n",
       "      <th>1</th>\n",
       "      <td>M1C</td>\n",
       "      <td>43.784535</td>\n",
       "      <td>-79.160497</td>\n",
       "    </tr>\n",
       "  </tbody>\n",
       "</table>\n",
       "</div>"
      ],
      "text/plain": [
       "  PostalCode        Lat       Long\n",
       "0        M1B  43.806686 -79.194353\n",
       "1        M1C  43.784535 -79.160497"
      ]
     },
     "execution_count": 14,
     "metadata": {},
     "output_type": "execute_result"
    }
   ],
   "source": [
    "geocodes.columns = ['PostalCode', 'Lat', 'Long']\n",
    "geocodes.head(2)"
   ]
  },
  {
   "cell_type": "code",
   "execution_count": 15,
   "metadata": {
    "collapsed": false
   },
   "outputs": [
    {
     "data": {
      "text/html": [
       "<div>\n",
       "<style scoped>\n",
       "    .dataframe tbody tr th:only-of-type {\n",
       "        vertical-align: middle;\n",
       "    }\n",
       "\n",
       "    .dataframe tbody tr th {\n",
       "        vertical-align: top;\n",
       "    }\n",
       "\n",
       "    .dataframe thead th {\n",
       "        text-align: right;\n",
       "    }\n",
       "</style>\n",
       "<table border=\"1\" class=\"dataframe\">\n",
       "  <thead>\n",
       "    <tr style=\"text-align: right;\">\n",
       "      <th></th>\n",
       "      <th>PostalCode</th>\n",
       "      <th>Borough</th>\n",
       "      <th>Neighborhood</th>\n",
       "      <th>Lat</th>\n",
       "      <th>Long</th>\n",
       "    </tr>\n",
       "  </thead>\n",
       "  <tbody>\n",
       "    <tr>\n",
       "      <th>0</th>\n",
       "      <td>M3A</td>\n",
       "      <td>North York</td>\n",
       "      <td>Parkwoods</td>\n",
       "      <td>43.753259</td>\n",
       "      <td>-79.329656</td>\n",
       "    </tr>\n",
       "    <tr>\n",
       "      <th>1</th>\n",
       "      <td>M4A</td>\n",
       "      <td>North York</td>\n",
       "      <td>Victoria Village</td>\n",
       "      <td>43.725882</td>\n",
       "      <td>-79.315572</td>\n",
       "    </tr>\n",
       "    <tr>\n",
       "      <th>2</th>\n",
       "      <td>M5A</td>\n",
       "      <td>Downtown Toronto</td>\n",
       "      <td>Harbourfront, Regent Park</td>\n",
       "      <td>43.654260</td>\n",
       "      <td>-79.360636</td>\n",
       "    </tr>\n",
       "    <tr>\n",
       "      <th>3</th>\n",
       "      <td>M6A</td>\n",
       "      <td>North York</td>\n",
       "      <td>Lawrence Heights, Lawrence Manor</td>\n",
       "      <td>43.718518</td>\n",
       "      <td>-79.464763</td>\n",
       "    </tr>\n",
       "    <tr>\n",
       "      <th>4</th>\n",
       "      <td>M7A</td>\n",
       "      <td>Queen's Park</td>\n",
       "      <td>Queen's Park</td>\n",
       "      <td>43.662301</td>\n",
       "      <td>-79.389494</td>\n",
       "    </tr>\n",
       "    <tr>\n",
       "      <th>5</th>\n",
       "      <td>M9A</td>\n",
       "      <td>Etobicoke</td>\n",
       "      <td>Islington Avenue</td>\n",
       "      <td>43.667856</td>\n",
       "      <td>-79.532242</td>\n",
       "    </tr>\n",
       "    <tr>\n",
       "      <th>6</th>\n",
       "      <td>M1B</td>\n",
       "      <td>Scarborough</td>\n",
       "      <td>Rouge, Malvern</td>\n",
       "      <td>43.806686</td>\n",
       "      <td>-79.194353</td>\n",
       "    </tr>\n",
       "    <tr>\n",
       "      <th>7</th>\n",
       "      <td>M3B</td>\n",
       "      <td>North York</td>\n",
       "      <td>Don Mills North</td>\n",
       "      <td>43.745906</td>\n",
       "      <td>-79.352188</td>\n",
       "    </tr>\n",
       "    <tr>\n",
       "      <th>8</th>\n",
       "      <td>M4B</td>\n",
       "      <td>East York</td>\n",
       "      <td>Woodbine Gardens, Parkview Hill</td>\n",
       "      <td>43.706397</td>\n",
       "      <td>-79.309937</td>\n",
       "    </tr>\n",
       "    <tr>\n",
       "      <th>9</th>\n",
       "      <td>M5B</td>\n",
       "      <td>Downtown Toronto</td>\n",
       "      <td>Ryerson, Garden District</td>\n",
       "      <td>43.657162</td>\n",
       "      <td>-79.378937</td>\n",
       "    </tr>\n",
       "  </tbody>\n",
       "</table>\n",
       "</div>"
      ],
      "text/plain": [
       "  PostalCode           Borough                      Neighborhood        Lat  \\\n",
       "0        M3A        North York                         Parkwoods  43.753259   \n",
       "1        M4A        North York                  Victoria Village  43.725882   \n",
       "2        M5A  Downtown Toronto         Harbourfront, Regent Park  43.654260   \n",
       "3        M6A        North York  Lawrence Heights, Lawrence Manor  43.718518   \n",
       "4        M7A      Queen's Park                      Queen's Park  43.662301   \n",
       "5        M9A         Etobicoke                  Islington Avenue  43.667856   \n",
       "6        M1B       Scarborough                    Rouge, Malvern  43.806686   \n",
       "7        M3B        North York                   Don Mills North  43.745906   \n",
       "8        M4B         East York   Woodbine Gardens, Parkview Hill  43.706397   \n",
       "9        M5B  Downtown Toronto          Ryerson, Garden District  43.657162   \n",
       "\n",
       "        Long  \n",
       "0 -79.329656  \n",
       "1 -79.315572  \n",
       "2 -79.360636  \n",
       "3 -79.464763  \n",
       "4 -79.389494  \n",
       "5 -79.532242  \n",
       "6 -79.194353  \n",
       "7 -79.352188  \n",
       "8 -79.309937  \n",
       "9 -79.378937  "
      ]
     },
     "execution_count": 15,
     "metadata": {},
     "output_type": "execute_result"
    }
   ],
   "source": [
    "#pd.concat([df, geocodes],axis=1)\n",
    "df = df.merge(geocodes, left_on='PostalCode', right_on='PostalCode', how='inner')\n",
    "\n",
    "df.head(10)"
   ]
  },
  {
   "cell_type": "code",
   "execution_count": 16,
   "metadata": {
    "collapsed": false
   },
   "outputs": [
    {
     "name": "stdout",
     "output_type": "stream",
     "text": [
      "Requirement already satisfied: folium in ./common/.virtualenv/python3/lib/python3.5/site-packages (0.6.0)\n",
      "Requirement already satisfied: jinja2 in /usr/local/lib/python3.5/dist-packages (from folium) (2.8)\n",
      "Requirement already satisfied: requests in /usr/local/lib/python3.5/dist-packages (from folium) (2.11.0)\n",
      "Requirement already satisfied: six in /usr/local/lib/python3.5/dist-packages (from folium) (1.11.0)\n",
      "Requirement already satisfied: branca>=0.3.0 in ./common/.virtualenv/python3/lib/python3.5/site-packages (from folium) (0.3.1)\n",
      "Requirement already satisfied: numpy in /usr/local/lib/python3.5/dist-packages (from folium) (1.14.5)\n",
      "Requirement already satisfied: MarkupSafe in /usr/local/lib/python3.5/dist-packages (from jinja2->folium) (0.23)\n",
      "\u001b[33mYou are using pip version 18.0, however version 18.1 is available.\n",
      "You should consider upgrading via the 'pip install --upgrade pip' command.\u001b[0m\n"
     ]
    }
   ],
   "source": [
    "!pip install folium\n",
    "import folium \n",
    "from folium import plugins"
   ]
  },
  {
   "cell_type": "code",
   "execution_count": 17,
   "metadata": {
    "collapsed": false
   },
   "outputs": [],
   "source": [
    "# define the world map\n",
    "wmap = folium.Map(location=[43.6, -79], zoom_start=9)"
   ]
  },
  {
   "cell_type": "code",
   "execution_count": 18,
   "metadata": {
    "collapsed": false
   },
   "outputs": [
    {
     "data": {
      "text/html": [
       "<div style=\"width:100%;\"><div style=\"position:relative;width:100%;height:0;padding-bottom:60%;\"><iframe src=\"data:text/html;charset=utf-8;base64,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\" style=\"position:absolute;width:100%;height:100%;left:0;top:0;border:none !important;\" allowfullscreen webkitallowfullscreen mozallowfullscreen></iframe></div></div>"
      ],
      "text/plain": [
       "<folium.folium.Map at 0x7f87061d68d0>"
      ]
     },
     "execution_count": 18,
     "metadata": {},
     "output_type": "execute_result"
    }
   ],
   "source": [
    "# Plot all the postal code locations using markers\n",
    "map_osm = folium.Map(location=[43.6, -79], zoom_start = 9)\n",
    "df.apply(lambda row:folium.Marker(location=[row['Lat'], \n",
    "            row['Long']]).add_to(map_osm),axis=1)\n",
    "map_osm"
   ]
  },
  {
   "cell_type": "code",
   "execution_count": 19,
   "metadata": {
    "collapsed": false
   },
   "outputs": [
    {
     "name": "stderr",
     "output_type": "stream",
     "text": [
      "/usr/local/lib/python3.5/dist-packages/ipykernel/__main__.py:2: FutureWarning: Method .as_matrix will be removed in a future version. Use .values instead.\n",
      "  from ipykernel import kernelapp as app\n",
      "/usr/local/lib/python3.5/dist-packages/ipykernel/__main__.py:9: FutureWarning: Method `add_children` is deprecated. Please use `add_child` instead.\n"
     ]
    },
    {
     "data": {
      "text/html": [
       "<div style=\"width:100%;\"><div style=\"position:relative;width:100%;height:0;padding-bottom:60%;\"><iframe src=\"data:text/html;charset=utf-8;base64,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\" style=\"position:absolute;width:100%;height:100%;left:0;top:0;border:none !important;\" allowfullscreen webkitallowfullscreen mozallowfullscreen></iframe></div></div>"
      ],
      "text/plain": [
       "<folium.folium.Map at 0x7f870622e400>"
      ]
     },
     "execution_count": 19,
     "metadata": {},
     "output_type": "execute_result"
    }
   ],
   "source": [
    "# convert to (n, 2) nd-array format for heatmap\n",
    "torontohoods = df[['Lat', 'Long']].as_matrix()\n",
    "\n",
    "# plot heatmap of postal codes - \n",
    "#see where the concentration is the greatest\n",
    "# based on heat map you can see the highest concentation of postal codes\n",
    "# are located in the center of the city.\n",
    "\n",
    "wmap.add_children(plugins.HeatMap(torontohoods, radius=15))\n",
    "wmap"
   ]
  },
  {
   "cell_type": "code",
   "execution_count": null,
   "metadata": {
    "collapsed": true
   },
   "outputs": [],
   "source": []
  }
 ],
 "metadata": {
  "kernelspec": {
   "display_name": "Python 3",
   "language": "python",
   "name": "python3"
  },
  "language_info": {
   "codemirror_mode": {
    "name": "ipython",
    "version": 3
   },
   "file_extension": ".py",
   "mimetype": "text/x-python",
   "name": "python",
   "nbconvert_exporter": "python",
   "pygments_lexer": "ipython3",
   "version": "3.5.2"
  },
  "widgets": {
   "state": {},
   "version": "1.1.2"
  }
 },
 "nbformat": 4,
 "nbformat_minor": 0
}
